{
 "cells": [
  {
   "cell_type": "code",
   "execution_count": null,
   "metadata": {
    "scrolled": false
   },
   "outputs": [
    {
     "name": "stderr",
     "output_type": "stream",
     "text": [
      "100%|███████████████████████████████████████████████████████████████████████████████████| 3/3 [00:00<00:00,  4.38it/s]\n"
     ]
    },
    {
     "name": "stdout",
     "output_type": "stream",
     "text": [
      "Iteration: 0, Ave Loss of Epoch:, 1.1225\n"
     ]
    },
    {
     "name": "stderr",
     "output_type": "stream",
     "text": [
      "100%|███████████████████████████████████████████████████████████████████████████████████| 3/3 [00:00<00:00,  5.22it/s]\n",
      "100%|███████████████████████████████████████████████████████████████████████████████████| 3/3 [00:00<00:00,  5.27it/s]\n",
      "100%|███████████████████████████████████████████████████████████████████████████████████| 3/3 [00:00<00:00,  5.17it/s]\n",
      " 33%|███████████████████████████▋                                                       | 1/3 [00:00<00:00,  3.85it/s]"
     ]
    }
   ],
   "source": [
    "from core.runner import Runner\n",
    "\n",
    "runner = Runner(batch_size=4)\n",
    "runner.train(n_epochs=20)"
   ]
  },
  {
   "cell_type": "code",
   "execution_count": 2,
   "metadata": {},
   "outputs": [
    {
     "data": {
      "text/plain": [
       "[1.0537710189819336,\n",
       " 1.0297274589538574,\n",
       " 1.0244235595067341,\n",
       " 0.998520294825236,\n",
       " 1.024872064590454,\n",
       " 0.9990781545639038,\n",
       " 1.000041902065277,\n",
       " 0.9974328875541687,\n",
       " 1.0018725196520488,\n",
       " 0.9883401393890381,\n",
       " 0.9734085202217102,\n",
       " 0.9756925304730734,\n",
       " 0.9495797355969747,\n",
       " 0.9457605083783468,\n",
       " 0.9555132587750753,\n",
       " 0.9545731743176779,\n",
       " 0.9485996762911478,\n",
       " 0.9474808971087137,\n",
       " 0.952127476533254,\n",
       " 0.9188217520713806]"
      ]
     },
     "execution_count": 2,
     "metadata": {},
     "output_type": "execute_result"
    }
   ],
   "source": [
    "losses"
   ]
  },
  {
   "cell_type": "code",
   "execution_count": null,
   "metadata": {},
   "outputs": [],
   "source": []
  }
 ],
 "metadata": {
  "kernelspec": {
   "display_name": "diffusion_models",
   "language": "python",
   "name": "diffusion_models"
  },
  "language_info": {
   "codemirror_mode": {
    "name": "ipython",
    "version": 3
   },
   "file_extension": ".py",
   "mimetype": "text/x-python",
   "name": "python",
   "nbconvert_exporter": "python",
   "pygments_lexer": "ipython3",
   "version": "3.10.10"
  }
 },
 "nbformat": 4,
 "nbformat_minor": 4
}
